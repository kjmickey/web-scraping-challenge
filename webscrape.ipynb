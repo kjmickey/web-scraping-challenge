{
 "cells": [
  {
   "cell_type": "code",
   "execution_count": 1,
   "metadata": {},
   "outputs": [],
   "source": [
    "#dependencies\n",
    "from bs4 import BeautifulSoup as bs\n",
    "# import numpy as np\n",
    "import pandas as pd\n",
    "# from selenium import webdriver\n",
    "# import requests as req\n",
    "from pretty_html_table import build_table\n",
    "from splinter import Browser\n",
    "from webdriver_manager.chrome import ChromeDriverManager"
   ]
  },
  {
   "cell_type": "code",
   "execution_count": 2,
   "metadata": {},
   "outputs": [
    {
     "name": "stderr",
     "output_type": "stream",
     "text": [
      "[WDM] - ====== WebDriver manager ======\n",
      "[WDM] - Current google-chrome version is 88.0.4324\n",
      "[WDM] - Get LATEST driver version for 88.0.4324\n"
     ]
    },
    {
     "name": "stdout",
     "output_type": "stream",
     "text": [
      "\n",
      "\n"
     ]
    },
    {
     "name": "stderr",
     "output_type": "stream",
     "text": [
      "[WDM] - Driver [/Users/Kevin/.wdm/drivers/chromedriver/mac64/88.0.4324.96/chromedriver] found in cache\n"
     ]
    }
   ],
   "source": [
    "# Setup splinter\n",
    "executable_path = {'executable_path': ChromeDriverManager().install()}\n",
    "browser = Browser('chrome', **executable_path, headless=False)"
   ]
  },
  {
   "cell_type": "code",
   "execution_count": 3,
   "metadata": {},
   "outputs": [],
   "source": [
    "# Part 1\n",
    "# Scrape the first news story (title and teaser) from https://mars.nasa.gov/news/"
   ]
  },
  {
   "cell_type": "code",
   "execution_count": 4,
   "metadata": {},
   "outputs": [],
   "source": [
    "# URL of page to be scraped\n",
    "\n",
    "url = 'https://mars.nasa.gov/news/'\n",
    "browser.visit(url)"
   ]
  },
  {
   "cell_type": "code",
   "execution_count": 5,
   "metadata": {},
   "outputs": [],
   "source": [
    "newsHTML = browser.html\n",
    "soup = bs(newsHTML, 'html.parser')\n"
   ]
  },
  {
   "cell_type": "code",
   "execution_count": 6,
   "metadata": {
    "scrolled": false
   },
   "outputs": [
    {
     "name": "stdout",
     "output_type": "stream",
     "text": [
      "Testing Proves Its Worth With Successful Mars Parachute Deployment\n"
     ]
    }
   ],
   "source": [
    "soupDiv = soup.find(class_=\"slide\")\n",
    "soupNews = soupDiv.find_all('a')\n",
    "newsTitle = soupNews[1].get_text().strip()\n",
    "print(newsTitle)"
   ]
  },
  {
   "cell_type": "code",
   "execution_count": 7,
   "metadata": {},
   "outputs": [
    {
     "name": "stdout",
     "output_type": "stream",
     "text": [
      "The giant canopy that helped land Perseverance on Mars was tested here on Earth at NASA’s Wallops Flight Facility in Virginia.\n"
     ]
    }
   ],
   "source": [
    "soupTeaser = soup.find(class_=\"article_teaser_body\")\n",
    "newsPara = soupTeaser.get_text().strip()\n",
    "print(newsPara)"
   ]
  },
  {
   "cell_type": "code",
   "execution_count": 8,
   "metadata": {},
   "outputs": [],
   "source": [
    "# Part 2  \n",
    "# Get the image of the day from https://data-class-jpl-space.s3.amazonaws.com/JPL_Space/index.html"
   ]
  },
  {
   "cell_type": "code",
   "execution_count": 9,
   "metadata": {},
   "outputs": [
    {
     "data": {
      "text/plain": [
       "<splinter.driver.webdriver.chrome.WebDriver at 0x7fd25f348e20>"
      ]
     },
     "execution_count": 9,
     "metadata": {},
     "output_type": "execute_result"
    }
   ],
   "source": [
    "# URL of page to be scraped\n",
    "imageURL = 'https://data-class-jpl-space.s3.amazonaws.com/JPL_Space/index.html'\n",
    "imageBaseURL = 'https://data-class-jpl-space.s3.amazonaws.com/JPL_Space/'\n",
    "browser.visit(imageURL)\n",
    "browser"
   ]
  },
  {
   "cell_type": "code",
   "execution_count": 10,
   "metadata": {},
   "outputs": [],
   "source": [
    "featuredImageHTML = browser.html\n",
    "featuredImagesSoup = bs(featuredImageHTML, 'html.parser')\n",
    "# soup"
   ]
  },
  {
   "cell_type": "code",
   "execution_count": 11,
   "metadata": {},
   "outputs": [
    {
     "name": "stdout",
     "output_type": "stream",
     "text": [
      "image/featured/mars2.jpg\n"
     ]
    }
   ],
   "source": [
    "soupDiv = featuredImagesSoup.find(class_=\"showimg fancybox-thumbs\")\n",
    "partialImageURL = soupDiv['href']\n",
    "print(partialImageURL)\n",
    "\n"
   ]
  },
  {
   "cell_type": "code",
   "execution_count": 12,
   "metadata": {},
   "outputs": [
    {
     "data": {
      "text/plain": [
       "'https://data-class-jpl-space.s3.amazonaws.com/JPL_Space/image/featured/mars2.jpg'"
      ]
     },
     "execution_count": 12,
     "metadata": {},
     "output_type": "execute_result"
    }
   ],
   "source": [
    "featuredImageURL = imageBaseURL + partialImageURL\n",
    "browser.visit(featuredImageURL)\n",
    "featuredImageURL"
   ]
  },
  {
   "cell_type": "code",
   "execution_count": 13,
   "metadata": {},
   "outputs": [],
   "source": [
    "# Part 3 \n",
    "# Scrape Mars facts page https://space-facts.com/mars/ and scrape the Mars Planet Profile Table "
   ]
  },
  {
   "cell_type": "code",
   "execution_count": 14,
   "metadata": {},
   "outputs": [
    {
     "data": {
      "text/plain": [
       "<splinter.driver.webdriver.chrome.WebDriver at 0x7fd25f348e20>"
      ]
     },
     "execution_count": 14,
     "metadata": {},
     "output_type": "execute_result"
    }
   ],
   "source": [
    "marsProfileURL = 'https://space-facts.com/mars/'\n",
    "browser.visit(marsProfileURL)\n",
    "browser"
   ]
  },
  {
   "cell_type": "code",
   "execution_count": 15,
   "metadata": {},
   "outputs": [],
   "source": [
    "marsProfileTables = pd.read_html(marsProfileURL)\n",
    "# marsProfileTables\n",
    "# 3 tables, but table 1 and 3 are identical"
   ]
  },
  {
   "cell_type": "code",
   "execution_count": 16,
   "metadata": {},
   "outputs": [
    {
     "data": {
      "text/html": [
       "<div>\n",
       "<style scoped>\n",
       "    .dataframe tbody tr th:only-of-type {\n",
       "        vertical-align: middle;\n",
       "    }\n",
       "\n",
       "    .dataframe tbody tr th {\n",
       "        vertical-align: top;\n",
       "    }\n",
       "\n",
       "    .dataframe thead th {\n",
       "        text-align: right;\n",
       "    }\n",
       "</style>\n",
       "<table border=\"1\" class=\"dataframe\">\n",
       "  <thead>\n",
       "    <tr style=\"text-align: right;\">\n",
       "      <th></th>\n",
       "      <th>Mars Facts</th>\n",
       "      <th></th>\n",
       "    </tr>\n",
       "  </thead>\n",
       "  <tbody>\n",
       "    <tr>\n",
       "      <th>0</th>\n",
       "      <td>Equatorial Diameter:</td>\n",
       "      <td>6,792 km</td>\n",
       "    </tr>\n",
       "    <tr>\n",
       "      <th>1</th>\n",
       "      <td>Polar Diameter:</td>\n",
       "      <td>6,752 km</td>\n",
       "    </tr>\n",
       "    <tr>\n",
       "      <th>2</th>\n",
       "      <td>Mass:</td>\n",
       "      <td>6.39 × 10^23 kg (0.11 Earths)</td>\n",
       "    </tr>\n",
       "    <tr>\n",
       "      <th>3</th>\n",
       "      <td>Moons:</td>\n",
       "      <td>2 (Phobos &amp; Deimos)</td>\n",
       "    </tr>\n",
       "    <tr>\n",
       "      <th>4</th>\n",
       "      <td>Orbit Distance:</td>\n",
       "      <td>227,943,824 km (1.38 AU)</td>\n",
       "    </tr>\n",
       "    <tr>\n",
       "      <th>5</th>\n",
       "      <td>Orbit Period:</td>\n",
       "      <td>687 days (1.9 years)</td>\n",
       "    </tr>\n",
       "    <tr>\n",
       "      <th>6</th>\n",
       "      <td>Surface Temperature:</td>\n",
       "      <td>-87 to -5 °C</td>\n",
       "    </tr>\n",
       "    <tr>\n",
       "      <th>7</th>\n",
       "      <td>First Record:</td>\n",
       "      <td>2nd millennium BC</td>\n",
       "    </tr>\n",
       "    <tr>\n",
       "      <th>8</th>\n",
       "      <td>Recorded By:</td>\n",
       "      <td>Egyptian astronomers</td>\n",
       "    </tr>\n",
       "  </tbody>\n",
       "</table>\n",
       "</div>"
      ],
      "text/plain": [
       "             Mars Facts                               \n",
       "0  Equatorial Diameter:                       6,792 km\n",
       "1       Polar Diameter:                       6,752 km\n",
       "2                 Mass:  6.39 × 10^23 kg (0.11 Earths)\n",
       "3                Moons:            2 (Phobos & Deimos)\n",
       "4       Orbit Distance:       227,943,824 km (1.38 AU)\n",
       "5         Orbit Period:           687 days (1.9 years)\n",
       "6  Surface Temperature:                   -87 to -5 °C\n",
       "7         First Record:              2nd millennium BC\n",
       "8          Recorded By:           Egyptian astronomers"
      ]
     },
     "execution_count": 16,
     "metadata": {},
     "output_type": "execute_result"
    }
   ],
   "source": [
    "df0 = marsProfileTables[0]\n",
    "df0.columns  =[\"Mars Facts\",\"\"]  # gets rid of 0 and 1 in header\n",
    "\n",
    "df0"
   ]
  },
  {
   "cell_type": "code",
   "execution_count": 17,
   "metadata": {},
   "outputs": [
    {
     "data": {
      "text/html": [
       "<div>\n",
       "<style scoped>\n",
       "    .dataframe tbody tr th:only-of-type {\n",
       "        vertical-align: middle;\n",
       "    }\n",
       "\n",
       "    .dataframe tbody tr th {\n",
       "        vertical-align: top;\n",
       "    }\n",
       "\n",
       "    .dataframe thead th {\n",
       "        text-align: right;\n",
       "    }\n",
       "</style>\n",
       "<table border=\"1\" class=\"dataframe\">\n",
       "  <thead>\n",
       "    <tr style=\"text-align: right;\">\n",
       "      <th></th>\n",
       "      <th>Mars - Earth Comparison</th>\n",
       "      <th>Mars</th>\n",
       "      <th>Earth</th>\n",
       "    </tr>\n",
       "  </thead>\n",
       "  <tbody>\n",
       "    <tr>\n",
       "      <th>0</th>\n",
       "      <td>Diameter:</td>\n",
       "      <td>6,779 km</td>\n",
       "      <td>12,742 km</td>\n",
       "    </tr>\n",
       "    <tr>\n",
       "      <th>1</th>\n",
       "      <td>Mass:</td>\n",
       "      <td>6.39 × 10^23 kg</td>\n",
       "      <td>5.97 × 10^24 kg</td>\n",
       "    </tr>\n",
       "    <tr>\n",
       "      <th>2</th>\n",
       "      <td>Moons:</td>\n",
       "      <td>2</td>\n",
       "      <td>1</td>\n",
       "    </tr>\n",
       "    <tr>\n",
       "      <th>3</th>\n",
       "      <td>Distance from Sun:</td>\n",
       "      <td>227,943,824 km</td>\n",
       "      <td>149,598,262 km</td>\n",
       "    </tr>\n",
       "    <tr>\n",
       "      <th>4</th>\n",
       "      <td>Length of Year:</td>\n",
       "      <td>687 Earth days</td>\n",
       "      <td>365.24 days</td>\n",
       "    </tr>\n",
       "    <tr>\n",
       "      <th>5</th>\n",
       "      <td>Temperature:</td>\n",
       "      <td>-87 to -5 °C</td>\n",
       "      <td>-88 to 58°C</td>\n",
       "    </tr>\n",
       "  </tbody>\n",
       "</table>\n",
       "</div>"
      ],
      "text/plain": [
       "  Mars - Earth Comparison             Mars            Earth\n",
       "0               Diameter:         6,779 km        12,742 km\n",
       "1                   Mass:  6.39 × 10^23 kg  5.97 × 10^24 kg\n",
       "2                  Moons:                2                1\n",
       "3      Distance from Sun:   227,943,824 km   149,598,262 km\n",
       "4         Length of Year:   687 Earth days      365.24 days\n",
       "5            Temperature:     -87 to -5 °C      -88 to 58°C"
      ]
     },
     "execution_count": 17,
     "metadata": {},
     "output_type": "execute_result"
    }
   ],
   "source": [
    "df1 = marsProfileTables[1]\n",
    "df1"
   ]
  },
  {
   "cell_type": "code",
   "execution_count": 18,
   "metadata": {},
   "outputs": [],
   "source": [
    "# df2 = marsProfileTables[2]\n",
    "# df2.columns  =[\"\",\"\"]\n",
    "# df2"
   ]
  },
  {
   "cell_type": "code",
   "execution_count": 19,
   "metadata": {},
   "outputs": [
    {
     "data": {
      "text/plain": [
       "'<table border=\"1\" class=\"dataframe\">\\n  <thead>\\n    <tr style=\"text-align: right;\">\\n      <th>Mars Facts</th>\\n      <th></th>\\n    </tr>\\n  </thead>\\n  <tbody>\\n    <tr>\\n      <td>Equatorial Diameter:</td>\\n      <td>6,792 km</td>\\n    </tr>\\n    <tr>\\n      <td>Polar Diameter:</td>\\n      <td>6,752 km</td>\\n    </tr>\\n    <tr>\\n      <td>Mass:</td>\\n      <td>6.39 × 10^23 kg (0.11 Earths)</td>\\n    </tr>\\n    <tr>\\n      <td>Moons:</td>\\n      <td>2 (Phobos &amp; Deimos)</td>\\n    </tr>\\n    <tr>\\n      <td>Orbit Distance:</td>\\n      <td>227,943,824 km (1.38 AU)</td>\\n    </tr>\\n    <tr>\\n      <td>Orbit Period:</td>\\n      <td>687 days (1.9 years)</td>\\n    </tr>\\n    <tr>\\n      <td>Surface Temperature:</td>\\n      <td>-87 to -5 °C</td>\\n    </tr>\\n    <tr>\\n      <td>First Record:</td>\\n      <td>2nd millennium BC</td>\\n    </tr>\\n    <tr>\\n      <td>Recorded By:</td>\\n      <td>Egyptian astronomers</td>\\n    </tr>\\n  </tbody>\\n</table>'"
      ]
     },
     "execution_count": 19,
     "metadata": {},
     "output_type": "execute_result"
    }
   ],
   "source": [
    "htmlTable0 = df0.to_html(index=False)\n",
    "htmlTable0"
   ]
  },
  {
   "cell_type": "code",
   "execution_count": 20,
   "metadata": {},
   "outputs": [
    {
     "data": {
      "text/plain": [
       "'<table border=\"1\" class=\"dataframe\">\\n  <thead>\\n    <tr style=\"text-align: right;\">\\n      <th>Mars - Earth Comparison</th>\\n      <th>Mars</th>\\n      <th>Earth</th>\\n    </tr>\\n  </thead>\\n  <tbody>\\n    <tr>\\n      <td>Diameter:</td>\\n      <td>6,779 km</td>\\n      <td>12,742 km</td>\\n    </tr>\\n    <tr>\\n      <td>Mass:</td>\\n      <td>6.39 × 10^23 kg</td>\\n      <td>5.97 × 10^24 kg</td>\\n    </tr>\\n    <tr>\\n      <td>Moons:</td>\\n      <td>2</td>\\n      <td>1</td>\\n    </tr>\\n    <tr>\\n      <td>Distance from Sun:</td>\\n      <td>227,943,824 km</td>\\n      <td>149,598,262 km</td>\\n    </tr>\\n    <tr>\\n      <td>Length of Year:</td>\\n      <td>687 Earth days</td>\\n      <td>365.24 days</td>\\n    </tr>\\n    <tr>\\n      <td>Temperature:</td>\\n      <td>-87 to -5 °C</td>\\n      <td>-88 to 58°C</td>\\n    </tr>\\n  </tbody>\\n</table>'"
      ]
     },
     "execution_count": 20,
     "metadata": {},
     "output_type": "execute_result"
    }
   ],
   "source": [
    "htmlTable1 = df1.to_html(index=False)\n",
    "htmlTable1"
   ]
  },
  {
   "cell_type": "code",
   "execution_count": 21,
   "metadata": {},
   "outputs": [],
   "source": [
    "# htmlTable2 = df2.to_html(index=False)\n",
    "# html_table_blue_light = build_table(pd.read_excel('df.xlsx'), 'blue_light')\n",
    "# htmlTable2"
   ]
  },
  {
   "cell_type": "code",
   "execution_count": 22,
   "metadata": {},
   "outputs": [],
   "source": [
    "# Part 4 \n",
    "# Scrape the 4 hi-rez Mars Hemispheres images from \n",
    "# https://astrogeology.usgs.gov/search/results?q=hemisphere+enhanced&k1=target&v1=Mars\n"
   ]
  },
  {
   "cell_type": "code",
   "execution_count": 23,
   "metadata": {},
   "outputs": [
    {
     "data": {
      "text/plain": [
       "<splinter.driver.webdriver.chrome.WebDriver at 0x7fd25f348e20>"
      ]
     },
     "execution_count": 23,
     "metadata": {},
     "output_type": "execute_result"
    }
   ],
   "source": [
    "marsHemisphereURL = 'https://astrogeology.usgs.gov/search/results?q=hemisphere+enhanced&k1=target&v1=Mars'\n",
    "browser.visit(marsHemisphereURL)\n",
    "browser"
   ]
  },
  {
   "cell_type": "code",
   "execution_count": 24,
   "metadata": {},
   "outputs": [
    {
     "data": {
      "text/plain": [
       "'<html lang=\"en\"><head>\\n\\t\\t<link rel=\"stylesheet\" type=\"text/css\" href=\"//ajax.googleapis.com/ajax/libs/jqueryui/1.11.3/themes/smoothness/jquery-ui.css\">\\n<title>Astropedia Search Results | USGS Astrogeology Science Center</title>\\n\\t\\t<meta name=\"description\" content=\"USGS Astrogeology Science Center Astropedia search results.\">\\n\\t\\t<meta name=\"keywords\" content=\"USGS,Astrogeology Science Center,Cartography,Geology,Space,Geological Survey,Mapping\">\\n\\t\\t<meta http-equiv=\"X-UA-Compatible\" content=\"IE=edge\">\\n\\t\\t<meta http-equiv=\"Content-Type\" content=\"text/html; charset=utf-8\">\\n\\t\\t<meta name=\"viewport\" content=\"width=device-width, initial-scale=1, maximum-scale=1\">\\n\\t\\t<meta name=\"google-site-verification\" content=\"x61hXXVj7wtfBSNOPnTftajMsZ5yB2W-qRoyr7GtOKM\">\\n\\t\\t<!--<link rel=\"stylesheet\" href=\"http://fonts.googleapis.com/css?family=Open+Sans:400italic,400,bold\"/>-->\\n\\t\\t<link rel=\"stylesheet\" media=\"screen\" href=\"/css/main.css\">\\n\\t\\t<link rel=\"stylesheet\" media=\"print\" href=\"/css/print.css\">\\n\\t\\t<!--[if lt IE 9]>\\n\\t\\t\\t<script src=\"http://html5shiv.googlecode.com/svn/trunk/html5.js\"></script>\\n\\t\\t\\t<script src=\"/js/respond.min.js\"></script>\\n\\t\\t\\t<link rel=\"stylesheet\" type=\"text/css\" href=\"/css/ie.css\"/>\\n                        <script>\\n                          document.createElement(\\'header\\');\\n                          document.createElement(\\'nav\\');\\n                          document.createElement(\\'section\\');\\n                          document.createElement(\\'article\\');\\n                          document.createElement(\\'aside\\');\\n                          document.createElement(\\'footer\\');\\n                          document.createElement(\\'hgroup\\');\\n                        </script>\\n                  <![endif]-->\\n\\t\\t<link rel=\"icon\" type=\"image/x-ico\" href=\"/favicon.ico\">\\n\\t</head>\\n\\t<body id=\"results\">\\n\\t\\t<header>\\n<!--\\n\\t\\t\\t<h1>Astrogeology Science Center</h1>\\n-->\\n\\t\\t\\t<a href=\"https://www.usgs.gov/centers/astrogeo-sc\" style=\"float:right;margin-top:10px;\" target=\"_blank\">\\n\\t\\t\\t\\t<img class=\"logo\" height=\"60\" src=\"/images/usgs_logo_main_2x.png\" alt=\"USGS: Science for a Changing World\">\\n\\t\\t\\t</a>\\n\\t\\t\\t<a href=\"https://nasa.gov\" style=\"float:right;margin-top:5px;margin-right:20px;\" target=\"_blank\">\\n\\t\\t\\t\\t<img class=\"logo\" height=\"65\" src=\"/images/logos/nasa-logo-web-med.png\" alt=\"NASA\">\\n\\t\\t\\t</a>\\n\\t\\t\\t<a href=\"https://www.usgs.gov/centers/astrogeology-science-center/science/pds-cartography-and-imaging-sciences-node-usgs\" style=\"float:right;margin-top:5px;margin-right: 10px;\" target=\"_blank\">\\n\\t\\t\\t\\t<img class=\"logo\" height=\"65\" src=\"/images/pds_logo-invisible-web.png\" alt=\"PDS Cartography and Imaging Science Node\">\\n\\t\\t\\t</a>\\n\\t\\t</header>\\n\\t\\t<div class=\"wrapper\">\\n<!--\\n\\t\\t\\t<nav>\\n\\t\\t\\t\\t<a id=\"nav-toggle\" href=\"#\" title=\"Navigation Menu\">Menu</a>\\n<ul class=\"dropdown dropdown-horizontal\" id=\"yw0\">\\n<li><a href=\"/\">Home</a></li>\\n<li><a href=\"/about\">About</a>\\n<ul>\\n<li><a href=\"/about/careers\">Careers</a></li>\\n<li><a href=\"/contact\">Contact</a></li>\\n<li><a href=\"/about/events\">Events</a></li>\\n<li><a href=\"/site/glossary\">Glossary</a></li>\\n<li><a href=\"/about/mission\">Mission</a></li>\\n<li><a href=\"/news\">News</a></li>\\n<li><a href=\"/people\">People</a></li>\\n<li><a href=\"/about/using-our-images\">Using Our Images</a></li>\\n<li><a href=\"/about/visitors\">Visitors</a></li>\\n</ul>\\n</li>\\n<li><a href=\"/facilities\">Labs / Facilities</a>\\n<ul>\\n<li><a href=\"/facilities/flynn-creek-crater-sample-collection\">Flynn Creek Crater Sample Collection</a></li>\\n<li><a href=\"http://www.moon-cal.org\">Lunar Calibration Project</a></li>\\n<li><a href=\"/facilities/meteor-crater-sample-collection\">Meteor Crater Sample Collection</a></li>\\n<li><a href=\"/facilities/mrctr\">MRCTR GIS Lab</a></li>\\n<li><a href=\"/facilities/cartography-and-imaging-sciences-node-of-nasa-planetary-data-system\">PDS Cartography and Imaging Sciences Node</a></li>\\n<li><a href=\"/pds/annex\">PDS IMG Annex</a></li>\\n<li><a href=\"/facilities/photogrammetry-guest-facility\">Photogrammetry Guest Facility</a></li>\\n<li><a href=\"/rpif\">Regional Planetary Information Facility (RPIF)</a></li>\\n</ul>\\n</li>\\n<li><a href=\"/maps\">Maps / Products</a>\\n<ul>\\n<li><a href=\"/search\">Product Search</a></li>\\n<li><a href=\"http://planetarynames.wr.usgs.gov\">Gazetteer of Planetary Nomenclature</a></li>\\n<li><a href=\"http://planetarymapping.wr.usgs.gov\">Geologic Mapping Program</a></li>\\n<li><a href=\"http://pilot.wr.usgs.gov\">Planetary Image Locator Tool (PILOT)</a></li>\\n<li><a href=\"/search/planetary-index\">Planetary Map Index</a></li>\\n</ul>\\n</li>\\n<li><a href=\"/geology\">Missions / Research</a>\\n<ul>\\n<li><a href=\"/geology/mars-dunes\">Mars Dunes</a></li>\\n<li><a href=\"/geology/mars-ice\">Mars Ice</a></li>\\n<li><a href=\"/missions\">Mission Support</a></li>\\n<li><a href=\"/solar-system\">Solar System</a></li>\\n<li><a href=\"/groups\">Working Groups</a></li>\\n</ul>\\n</li>\\n<li><a href=\"/tools\">Tools</a>\\n<ul>\\n<li><a href=\"http://planetarynames.wr.usgs.gov\">Gazetteer of Planetary Nomenclature</a></li>\\n<li><a href=\"http://isis.astrogeology.usgs.gov\">Integrated Software for Imagers and Spectrometers (ISIS)</a></li>\\n<li><a href=\"http://astrogeology.usgs.gov/tools/map\">Map a Planet 2</a></li>\\n<li><a href=\"http://pilot.wr.usgs.gov\">Planetary Image Locator Tool (PILOT)</a></li>\\n<li><a href=\"http://astrocloud.wr.usgs.gov/\">Projection on the Web (POW)</a></li>\\n</ul>\\n</li>\\n</ul>\\t\\t\\t\\t<form id=\"search\" class=\"search\" action=\"/search/results\" method=\"get\">\\n\\t\\t\\t\\t\\t<input type=\"submit\" value=\"\" title=\"Search Astropedia\"/>\\n\\t\\t\\t\\t\\t<input type=\"text\" placeholder=\"Search\" name=\"q\"/>\\n\\t\\t\\t\\t</form>\\n\\t\\t\\t</nav>\\n-->\\n\\t\\t\\t<div class=\"container\">\\n\\t\\t\\t\\t<div class=\"widget block bar\">\\n  <a style=\"float:right;text-decoration:none;\" href=\"/search\">\\n\\t\\t<img style=\"width:200px;border:none;float:right;\" src=\"/images/astropedia/astropedia-logo-main.png\" alt=\"Astropedia\">\\n\\t\\t<div style=\"clear:both;font-size:.8em;float:right;color:#888;\">Lunar and Planetary Cartographic Catalog</div>\\n  </a>\\n   <div style=\"float:left;height:60px;\">\\n   </div>\\n</div>\\n<form id=\"search-bar\" class=\"bar widget block\" action=\"/search/results\">\\n  <input type=\"hidden\" value=\"hemisphere-enhanced\" name=\"q\">\\n  <input type=\"hidden\" value=\"Mars\" name=\"target\"><input type=\"hidden\" name=\"__ncforminfo\" value=\"tE2115N-Wky5Ho1C9pKX2JVHOZ22libqiA_jwWnCoMdAYjaDnjZ8LGvWDfnJA_1Y21e8ODI2eeskj0VK3jTtwDMmgVWH98cewXbn83I6XJaURQPCevXPcA==\"></form><div class=\"full-content\">\\n\\t<section id=\"results-accordian\" class=\"block\">\\n\\t<div id=\"product-section\" data-section=\"product\" class=\"result-list\">\\n\\t\\t<div class=\"accordian\">\\n\\t\\t\\t<h2>Products</h2>\\n\\t\\t\\t<span class=\"count\">4 Results</span>\\n\\t\\t\\t<span class=\"collapse\">Collapse</span>\\n\\t\\t</div>\\n\\t\\t<div class=\"collapsible results\">\\n<div class=\"item\"><a href=\"/search/map/Mars/Viking/cerberus_enhanced\" class=\"itemLink product-item\"><img class=\"thumb\" src=\"/cache/images/39d3266553462198bd2fbc4d18fbed17_cerberus_enhanced.tif_thumb.png\" alt=\"Cerberus Hemisphere Enhanced thumbnail\"></a><div class=\"description\"><a href=\"/search/map/Mars/Viking/cerberus_enhanced\" class=\"itemLink product-item\"><h3>Cerberus Hemisphere Enhanced</h3></a><span class=\"subtitle\" style=\"float:left\">image/tiff 21 MB</span><span class=\"pubDate\" style=\"float:right\"></span><br><p>Mosaic of the Cerberus hemisphere of Mars projected into point perspective, a view similar to that which one would see from a spacecraft. This mosaic is composed of 104 Viking Orbiter images acquired…</p></div> <!-- end description --></div><div class=\"item\"><a href=\"/search/map/Mars/Viking/schiaparelli_enhanced\" class=\"itemLink product-item\"><img class=\"thumb\" src=\"/cache/images/08eac6e22c07fb1fe72223a79252de20_schiaparelli_enhanced.tif_thumb.png\" alt=\"Schiaparelli Hemisphere Enhanced thumbnail\"></a><div class=\"description\"><a href=\"/search/map/Mars/Viking/schiaparelli_enhanced\" class=\"itemLink product-item\"><h3>Schiaparelli Hemisphere Enhanced</h3></a><span class=\"subtitle\" style=\"float:left\">image/tiff 35 MB</span><span class=\"pubDate\" style=\"float:right\"></span><br><p>Mosaic of the Schiaparelli hemisphere of Mars projected into point perspective, a view similar to that which one would see from a spacecraft. The images were acquired in 1980 during early northern…</p></div> <!-- end description --></div><div class=\"item\"><a href=\"/search/map/Mars/Viking/syrtis_major_enhanced\" class=\"itemLink product-item\"><img class=\"thumb\" src=\"/cache/images/55a0a1e2796313fdeafb17c35925e8ac_syrtis_major_enhanced.tif_thumb.png\" alt=\"Syrtis Major Hemisphere Enhanced thumbnail\"></a><div class=\"description\"><a href=\"/search/map/Mars/Viking/syrtis_major_enhanced\" class=\"itemLink product-item\"><h3>Syrtis Major Hemisphere Enhanced</h3></a><span class=\"subtitle\" style=\"float:left\">image/tiff 25 MB</span><span class=\"pubDate\" style=\"float:right\"></span><br><p>Mosaic of the Syrtis Major hemisphere of Mars projected into point perspective, a view similar to that which one would see from a spacecraft. This mosaic is composed of about 100 red and violet…</p></div> <!-- end description --></div><div class=\"item\"><a href=\"/search/map/Mars/Viking/valles_marineris_enhanced\" class=\"itemLink product-item\"><img class=\"thumb\" src=\"/cache/images/4e59980c1c57f89c680c0e1ccabbeff1_valles_marineris_enhanced.tif_thumb.png\" alt=\"Valles Marineris Hemisphere Enhanced thumbnail\"></a><div class=\"description\"><a href=\"/search/map/Mars/Viking/valles_marineris_enhanced\" class=\"itemLink product-item\"><h3>Valles Marineris Hemisphere Enhanced</h3></a><span class=\"subtitle\" style=\"float:left\">image/tiff 27 MB</span><span class=\"pubDate\" style=\"float:right\"></span><br><p>Mosaic of the Valles Marineris hemisphere of Mars projected into point perspective, a view similar to that which one would see from a spacecraft. The distance is 2500 kilometers from the surface of…</p></div> <!-- end description --></div><script>addBases=[];;if(typeof resetLayerSwitcher===\"function\"){resetLayerSwitcher(false)};var productTotal = 4;</script>\\n</div> <!-- end this-section -->\\n</div>\\n\\n\\n\\n\\t</section>\\n</div>\\n\\n\\t\\t\\t</div>\\n\\t\\t\\t\\t\\t\\t\\t<div class=\"icons projects black scroll-wrapper\">\\n\\t\\t\\t\\t\\t<div class=\"scroll\">\\n\\t\\t\\t\\t\\t\\t<a title=\"Integrated Software for Imagers and Spectrometers\" href=\"http://isis.astrogeology.usgs.gov\" class=\"icon\">\\n\\t\\t\\t\\t\\t\\t\\t<img alt=\"ISIS Logo\" height=\"112\" width=\"112\" src=\"/images/logos/isis_2x.jpg\">\\n\\t\\t\\t\\t\\t\\t\\t<span class=\"label\">ISIS</span>\\n\\t\\t\\t\\t\\t\\t</a>\\n\\t\\t\\t\\t\\t\\t<a title=\"Gazetteer of Planetary Nomenclature\" href=\"http://planetarynames.wr.usgs.gov\" class=\"icon\">\\n\\t\\t\\t\\t\\t\\t\\t<img alt=\"Nomenclature Logo\" height=\"112\" width=\"112\" src=\"/images/logos/nomenclature_2x.jpg\">\\n\\t\\t\\t\\t\\t\\t\\t<span class=\"label\">Planetary Nomenclature</span>\\n\\t\\t\\t\\t\\t\\t</a>\\n\\t\\t\\t\\t\\t\\t<a title=\"Map a Planet 2\" href=\"https://astrogeology.usgs.gov/tools/map-a-planet-2\" class=\"icon\">\\n\\t\\t\\t\\t\\t\\t\\t<img alt=\"Map-a-Planet Logo\" height=\"112\" width=\"112\" src=\"/images/logos/map_a_planet_2x.jpg\">\\n\\t\\t\\t\\t\\t\\t\\t<span class=\"label\">Map a Planet 2</span>\\n\\t\\t\\t\\t\\t\\t</a>\\n\\t\\t\\t\\t\\t\\t<a title=\"PDS Cartography and Imaging Science Node\" href=\"https://www.usgs.gov/centers/astrogeo-sc/science/cartography-and-imaging-sciences-node-nasa-planetary-data-system\" class=\"icon\">\\n\\t\\t\\t\\t\\t\\t\\t<img alt=\"PDS Logo\" height=\"112\" src=\"/images/pds_logo-black-web.png\">\\n\\t\\t\\t\\t\\t\\t\\t<span class=\"label\">PDS Cartography and Imaging Science Node</span>\\n\\t\\t\\t\\t\\t\\t</a>\\n<!--\\n\\t\\t\\t\\t\\t\\t<a title=\"Astropedia Search\" href=\"/search\" class=\"icon\">\\n\\t\\t\\t\\t\\t\\t\\t<img alt=\"Astropedia Logo\" height=\"112\" width=\"112\" src=\"/images/logos/astropedia_2x.jpg\"/>\\n\\t\\t\\t\\t\\t\\t\\t<span class=\"label\">Astropedia</span>\\n\\t\\t\\t\\t\\t\\t</a>\\n-->\\n\\t\\t\\t\\t\\t\\t<a title=\"Regional Planetary Image Facility\" href=\"https://www.usgs.gov/centers/astrogeo-sc/science/regional-planetary-image-facility-rpif\" class=\"icon\">\\n\\t\\t\\t\\t\\t\\t\\t<img alt=\"RPIF Logo\" height=\"112\" width=\"112\" src=\"/images/logos/rpif_2x.jpg\">\\n\\t\\t\\t\\t\\t\\t\\t<span class=\"label\">RPIF</span>\\n\\t\\t\\t\\t\\t\\t</a>\\n\\t\\t\\t\\t\\t\\t<a title=\"Photogrammetry Guest Facility\" href=\"\" class=\"icon\">\\n\\t\\t\\t\\t\\t\\t\\t<img alt=\"Photogrammetry Guest Faciltiy Logo\" height=\"112\" width=\"112\" src=\"/images/logos/photogrammetry_2x.jpg\">\\n\\t\\t\\t\\t\\t\\t\\t<span class=\"label\">Photogrammetry Guest Facility</span>\\n\\t\\t\\t\\t\\t\\t</a>\\n\\t\\t\\t\\t\\t\\t<a title=\"Planetary Image Locator Tool\" href=\"http://pilot.wr.usgs.gov\" class=\"icon\">\\n\\t\\t\\t\\t\\t\\t\\t<img alt=\"Pilot Logo\" height=\"112\" width=\"112\" src=\"/images/logos/pilot_2x.jpg\">\\n\\t\\t\\t\\t\\t\\t\\t<span class=\"label\">PILOT</span>\\n\\t\\t\\t\\t\\t\\t</a>\\n\\t\\t\\t\\t\\t\\t<a title=\"Mapping, Remote-sensing, Cartography, Technology and Research GIS Lab\" href=\"https://www.usgs.gov/centers/astrogeo-sc/science/mrctr-gis-lab\" class=\"icon\">\\n\\t\\t\\t\\t\\t\\t\\t<img alt=\"MRCTR GIS Lab Logo\" height=\"112\" width=\"112\" src=\"/images/logos/mrctr_man_2x.png\">\\n\\t\\t\\t\\t\\t\\t\\t<span class=\"label\">MRCTR GIS Lab</span>\\n\\t\\t\\t\\t\\t\\t</a>\\n\\t\\t\\t\\t\\t</div>\\n\\t\\t\\t\\t</div>\\n\\t\\t\\t\\t\\t\\t<footer>\\n\\t\\t\\t\\t<div class=\"left\">\\n\\t\\t\\t\\t\\t<a href=\"./search\">Search</a> |\\n\\t\\t\\t\\t\\t<a href=\"http://astrogeology.usgs.gov/maps/about\">About</a> |\\n\\t\\t\\t\\t\\t<a href=\"http://astrogeology.usgs.gov/maps/contact\">Contact</a>\\n\\t\\t\\t\\t</div>\\n\\t\\t\\t\\t<div class=\"right\">\\n                                        <a href=\"https://www.usgs.gov/centers/astrogeo-sc\">USGS Astrogeology Science Center</a>\\n\\t\\t\\t\\t</div>\\n\\t\\t\\t</footer>\\n\\t\\t</div>\\n<!--\\n\\t\\t<div class=\"credit\">\\n\\t\\t\\t<small>Background Credits: NASA/USGS</small>\\n\\t\\t</div>\\n-->\\n\\t\\t<div class=\"page-background\" style=\"\\n\\t\\t\\tbackground:url(\\'/images/backgrounds/mars.jpg\\');\\n\\t\\t\\tfilter:progid:DXImageTransform.Microsoft.AlphaImageLoader(\\n\\t\\t\\t\\tsrc=\\'/images/backgrounds/mars.jpg\\', sizingMethod=\\'scale\\');\\n\\t\\t\"></div>\\n\\t\\t<script type=\"text/javascript\">\\nvar baseUrl = \"\";\\n\\n/*\\nvar _gaq = _gaq || [];_gaq.push([\\'_setAccount\\', \\'UA-27613186-1\\']);_gaq.push([\\'_trackPageview\\']);(function() { var ga = document.createElement(\\'script\\'); ga.type = \\'text/javascript\\'; ga.async = true;ga.src = (\\'https:\\' == document.location.protocol ? \\'https://ssl\\' : \\'http://www\\') + \\'.google-analytics.com/ga.js\\'; var s = document.getElementsByTagName(\\'script\\')[0]; s.parentNode.insertBefore(ga, s);})();\\n*/\\n\\t\\t</script>\\n\\t<script type=\"text/javascript\" src=\"https://ajax.googleapis.com/ajax/libs/jquery/1.11.1/jquery.min.js\"></script>\\n<script type=\"text/javascript\" src=\"//ajax.googleapis.com/ajax/libs/jqueryui/1.11.3/jquery-ui.min.js\"></script>\\n<script type=\"text/javascript\" src=\"/js/general.js\"></script>\\n\\n\\n</body></html>'"
      ]
     },
     "execution_count": 24,
     "metadata": {},
     "output_type": "execute_result"
    }
   ],
   "source": [
    "marsHemisphereHtml = browser.html\n",
    "marsHemisphereSoup = bs(marsHemisphereHtml, 'html.parser')\n",
    "marsHemisphereHtml\n",
    "# marsHemisphereSoup"
   ]
  },
  {
   "cell_type": "code",
   "execution_count": 28,
   "metadata": {},
   "outputs": [
    {
     "ename": "TypeError",
     "evalue": "'NoneType' object is not callable",
     "output_type": "error",
     "traceback": [
      "\u001b[0;31m---------------------------------------------------------------------------\u001b[0m",
      "\u001b[0;31mTypeError\u001b[0m                                 Traceback (most recent call last)",
      "\u001b[0;32m<ipython-input-28-5b2e299ca045>\u001b[0m in \u001b[0;36m<module>\u001b[0;34m\u001b[0m\n\u001b[0;32m----> 1\u001b[0;31m \u001b[0mlinks_found\u001b[0m \u001b[0;34m=\u001b[0m \u001b[0mmarsHemisphereSoup\u001b[0m\u001b[0;34m.\u001b[0m\u001b[0mfind_by_css\u001b[0m\u001b[0;34m(\u001b[0m\u001b[0;34m'.description'\u001b[0m\u001b[0;34m)\u001b[0m\u001b[0;34m.\u001b[0m\u001b[0mlinks\u001b[0m\u001b[0;34m.\u001b[0m\u001b[0mfind_by_partial_href\u001b[0m\u001b[0;34m(\u001b[0m\u001b[0;34m'search'\u001b[0m\u001b[0;34m)\u001b[0m\u001b[0;34m\u001b[0m\u001b[0;34m\u001b[0m\u001b[0m\n\u001b[0m\u001b[1;32m      2\u001b[0m \u001b[0mlinks_found\u001b[0m\u001b[0;34m\u001b[0m\u001b[0;34m\u001b[0m\u001b[0m\n\u001b[1;32m      3\u001b[0m \u001b[0;31m# soupDiv = marsHemisphereSoup.find(class_=\"description\")\u001b[0m\u001b[0;34m\u001b[0m\u001b[0;34m\u001b[0m\u001b[0;34m\u001b[0m\u001b[0m\n\u001b[1;32m      4\u001b[0m \u001b[0;31m# partialHemiURL = soupDiv['href']\u001b[0m\u001b[0;34m\u001b[0m\u001b[0;34m\u001b[0m\u001b[0;34m\u001b[0m\u001b[0m\n\u001b[1;32m      5\u001b[0m \u001b[0;31m# # newsTitle = soupNews[1]#.get_text().strip()\u001b[0m\u001b[0;34m\u001b[0m\u001b[0;34m\u001b[0m\u001b[0;34m\u001b[0m\u001b[0m\n",
      "\u001b[0;31mTypeError\u001b[0m: 'NoneType' object is not callable"
     ]
    }
   ],
   "source": [
    "links_found = marsHemisphereSoup.find_by_css('.description').links.find_by_partial_href('search')\n",
    "links_found\n",
    "# soupDiv = marsHemisphereSoup.find(class_=\"description\")\n",
    "# partialHemiURL = soupDiv['href']\n",
    "# # newsTitle = soupNews[1]#.get_text().strip()\n",
    "# print(soupNews)\n",
    "# soupDiv\n",
    "\n",
    "# soupDiv = featuredImagesSoup.find(class_=\"showimg fancybox-thumbs\")\n",
    "# partialImageURL = soupDiv['href']\n",
    "# print(partialImageURL)"
   ]
  },
  {
   "cell_type": "code",
   "execution_count": null,
   "metadata": {},
   "outputs": [],
   "source": []
  }
 ],
 "metadata": {
  "kernelspec": {
   "display_name": "Python 3",
   "language": "python",
   "name": "python3"
  },
  "language_info": {
   "codemirror_mode": {
    "name": "ipython",
    "version": 3
   },
   "file_extension": ".py",
   "mimetype": "text/x-python",
   "name": "python",
   "nbconvert_exporter": "python",
   "pygments_lexer": "ipython3",
   "version": "3.8.5"
  }
 },
 "nbformat": 4,
 "nbformat_minor": 4
}
